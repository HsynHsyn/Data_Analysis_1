{
 "cells": [
  {
   "cell_type": "code",
   "execution_count": 2,
   "metadata": {},
   "outputs": [],
   "source": [
    "import numpy as np\n",
    "import pandas as pd\n",
    "# 1) Numpy’da Vektor ve Matrisin farkini tek cumle ile ifade ediniz.\n",
    "\n",
    "# Numpy dizileri tek boyutlu (vektör) veya çok boyutlu (matris) olabilir."
   ]
  },
  {
   "cell_type": "code",
   "execution_count": 3,
   "metadata": {},
   "outputs": [
    {
     "name": "stdout",
     "output_type": "stream",
     "text": [
      "[0 1 2 3 4 5 6 7 8 9]\n"
     ]
    }
   ],
   "source": [
    "# 2) 10 elemanli bir listeden NumPy Array’i olusturunuz.\n",
    "\n",
    "list = []\n",
    "for i in range(10):\n",
    "    list.append(i)\n",
    "\n",
    "na = np.array(list)\n",
    "print(na)"
   ]
  },
  {
   "cell_type": "code",
   "execution_count": 4,
   "metadata": {},
   "outputs": [
    {
     "data": {
      "text/plain": [
       "array([[0, 0, 0, 0, 0, 0, 0, 0, 0, 0],\n",
       "       [0, 0, 0, 0, 0, 0, 0, 0, 0, 0],\n",
       "       [0, 0, 0, 0, 0, 0, 0, 0, 0, 0],\n",
       "       [0, 0, 0, 0, 0, 0, 0, 0, 0, 0],\n",
       "       [0, 0, 0, 0, 0, 0, 0, 0, 0, 0],\n",
       "       [0, 0, 0, 0, 0, 0, 0, 0, 0, 0],\n",
       "       [0, 0, 0, 0, 0, 0, 0, 0, 0, 0],\n",
       "       [0, 0, 0, 0, 0, 0, 0, 0, 0, 0],\n",
       "       [0, 0, 0, 0, 0, 0, 0, 0, 0, 0],\n",
       "       [0, 0, 0, 0, 0, 0, 0, 0, 0, 0]])"
      ]
     },
     "execution_count": 4,
     "metadata": {},
     "output_type": "execute_result"
    }
   ],
   "source": [
    "# 3) Icerisinde ‘0’ lar olan, ve veri tipi integer olan 10X10’luk bir matris olusturunuz.\n",
    "np.zeros((10,10), dtype=int) "
   ]
  },
  {
   "cell_type": "code",
   "execution_count": 5,
   "metadata": {},
   "outputs": [
    {
     "data": {
      "text/plain": [
       "array([[1., 1., 1., 1., 1., 1., 1., 1., 1., 1.],\n",
       "       [1., 1., 1., 1., 1., 1., 1., 1., 1., 1.],\n",
       "       [1., 1., 1., 1., 1., 1., 1., 1., 1., 1.],\n",
       "       [1., 1., 1., 1., 1., 1., 1., 1., 1., 1.],\n",
       "       [1., 1., 1., 1., 1., 1., 1., 1., 1., 1.],\n",
       "       [1., 1., 1., 1., 1., 1., 1., 1., 1., 1.],\n",
       "       [1., 1., 1., 1., 1., 1., 1., 1., 1., 1.],\n",
       "       [1., 1., 1., 1., 1., 1., 1., 1., 1., 1.],\n",
       "       [1., 1., 1., 1., 1., 1., 1., 1., 1., 1.],\n",
       "       [1., 1., 1., 1., 1., 1., 1., 1., 1., 1.]])"
      ]
     },
     "execution_count": 5,
     "metadata": {},
     "output_type": "execute_result"
    }
   ],
   "source": [
    "# 4) Icerisinde ‘1’ ler olan, veri tipi float olan 10X10’luk bir matris olusturunuz.\n",
    "np.ones((10,10), dtype=float)"
   ]
  },
  {
   "cell_type": "code",
   "execution_count": 6,
   "metadata": {},
   "outputs": [
    {
     "data": {
      "text/plain": [
       "array([[9, 9, 9, 9, 9, 9, 9, 9, 9, 9],\n",
       "       [9, 9, 9, 9, 9, 9, 9, 9, 9, 9],\n",
       "       [9, 9, 9, 9, 9, 9, 9, 9, 9, 9],\n",
       "       [9, 9, 9, 9, 9, 9, 9, 9, 9, 9],\n",
       "       [9, 9, 9, 9, 9, 9, 9, 9, 9, 9],\n",
       "       [9, 9, 9, 9, 9, 9, 9, 9, 9, 9],\n",
       "       [9, 9, 9, 9, 9, 9, 9, 9, 9, 9],\n",
       "       [9, 9, 9, 9, 9, 9, 9, 9, 9, 9],\n",
       "       [9, 9, 9, 9, 9, 9, 9, 9, 9, 9],\n",
       "       [9, 9, 9, 9, 9, 9, 9, 9, 9, 9]])"
      ]
     },
     "execution_count": 6,
     "metadata": {},
     "output_type": "execute_result"
    }
   ],
   "source": [
    "# 5) Icerisinde ‘9’ lar olan, veri tipi integer olan 10X10’luk bir matris olusturunuz.\n",
    "\n",
    "np.full((10,10),9)"
   ]
  },
  {
   "cell_type": "code",
   "execution_count": 7,
   "metadata": {},
   "outputs": [
    {
     "data": {
      "text/plain": [
       "array([ 5,  8, 11, 14, 17, 20, 23])"
      ]
     },
     "execution_count": 7,
     "metadata": {},
     "output_type": "execute_result"
    }
   ],
   "source": [
    "# 6) 5 ile 25 arasinda, 3’er 3’er atlayan tek boyutlu bir Array olusturunuz.\n",
    "np.arange(5,25,3)"
   ]
  },
  {
   "cell_type": "code",
   "execution_count": 8,
   "metadata": {},
   "outputs": [
    {
     "data": {
      "text/plain": [
       "array([0.        , 0.03448276, 0.06896552, 0.10344828, 0.13793103,\n",
       "       0.17241379, 0.20689655, 0.24137931, 0.27586207, 0.31034483,\n",
       "       0.34482759, 0.37931034, 0.4137931 , 0.44827586, 0.48275862,\n",
       "       0.51724138, 0.55172414, 0.5862069 , 0.62068966, 0.65517241,\n",
       "       0.68965517, 0.72413793, 0.75862069, 0.79310345, 0.82758621,\n",
       "       0.86206897, 0.89655172, 0.93103448, 0.96551724, 1.        ])"
      ]
     },
     "execution_count": 8,
     "metadata": {},
     "output_type": "execute_result"
    }
   ],
   "source": [
    "# 7) -1 ile 1 arasinda 30 adet Array olusturunuz.\n",
    "np.linspace (0,1,30)"
   ]
  },
  {
   "cell_type": "code",
   "execution_count": 9,
   "metadata": {},
   "outputs": [
    {
     "data": {
      "text/plain": [
       "array([[24, 11, 24, 26, 26, 15],\n",
       "       [25, 28,  2,  3, 14, 19],\n",
       "       [17,  0, 29, 12,  4, 27],\n",
       "       [24, 11, 11,  2, 17,  6],\n",
       "       [24, 19, 14, 23, 28, 20]])"
      ]
     },
     "execution_count": 9,
     "metadata": {},
     "output_type": "execute_result"
    }
   ],
   "source": [
    "# 8) 0 ile 30 arasinda 5x6’lik bir matris olusturun.\n",
    "np.random.randint(0,30,(5,6))"
   ]
  },
  {
   "cell_type": "code",
   "execution_count": 10,
   "metadata": {},
   "outputs": [
    {
     "data": {
      "text/plain": [
       "array([[1, 1, 1, 1, 1, 1, 1, 1, 1, 1],\n",
       "       [1, 1, 1, 1, 1, 1, 1, 1, 1, 1],\n",
       "       [1, 1, 1, 1, 1, 1, 1, 1, 1, 1],\n",
       "       [1, 1, 1, 1, 1, 1, 1, 1, 1, 1],\n",
       "       [1, 1, 1, 1, 1, 1, 1, 1, 1, 1],\n",
       "       [1, 1, 1, 1, 1, 1, 1, 1, 1, 1],\n",
       "       [1, 1, 1, 1, 1, 1, 1, 1, 1, 1],\n",
       "       [1, 1, 1, 1, 1, 1, 1, 1, 1, 1],\n",
       "       [1, 1, 1, 1, 1, 1, 1, 1, 1, 1],\n",
       "       [1, 1, 1, 1, 1, 1, 1, 1, 1, 1]])"
      ]
     },
     "execution_count": 10,
     "metadata": {},
     "output_type": "execute_result"
    }
   ],
   "source": [
    "# 9) Kosegenleri 1 olan 10x10’luk bir matris olusturunuz.\n",
    "\n",
    "np.full((10,10),1)"
   ]
  },
  {
   "cell_type": "code",
   "execution_count": 11,
   "metadata": {},
   "outputs": [
    {
     "name": "stdout",
     "output_type": "stream",
     "text": [
      "[[5 3 2 7 8 3 2 0 6 1]\n",
      " [3 5 7 9 6 0 8 1 9 5]\n",
      " [6 5 2 9 7 1 0 6 5 4]\n",
      " [2 4 9 0 1 0 2 7 8 0]\n",
      " [6 1 1 6 9 8 8 6 7 5]]\n",
      "50\n",
      "2\n",
      "(5, 10)\n",
      "int32\n"
     ]
    }
   ],
   "source": [
    "#10) 0 ile 10 arasinda 5x10’lik bir matris olusturun. (integer) ve bu matrisin;\n",
    "#eleman sayisini\n",
    "#boyut bilgisini/sayisini\n",
    "#satir X sutun bilgisini\n",
    "#veri tipini numpy metodlariyla yazdiriniz.\n",
    "\n",
    "matris = np.random.randint(0,10,(5,10))\n",
    "print(matris)\n",
    "#eleman sayisini\n",
    "print(matris.size)\n",
    "#boyut bilgisini/sayisini\n",
    "print(matris.ndim)\n",
    "#satir X sutun bilgisini\n",
    "print(matris.shape)\n",
    "#veri tipini numpy metodlariyla yazdiriniz.\n",
    "print(matris.dtype)\n",
    "\n",
    "\n",
    "\n"
   ]
  },
  {
   "cell_type": "code",
   "execution_count": 12,
   "metadata": {},
   "outputs": [
    {
     "name": "stdout",
     "output_type": "stream",
     "text": [
      "[[[6 4 4 7 8 6 3]\n",
      "  [6 6 2 5 7 0 8]\n",
      "  [7 1 3 9 6 1 5]\n",
      "  [5 6 4 2 1 2 7]]\n",
      "\n",
      " [[0 6 2 7 4 6 1]\n",
      "  [5 4 7 9 6 6 9]\n",
      "  [4 1 2 8 9 1 6]\n",
      "  [2 8 5 0 2 3 1]]\n",
      "\n",
      " [[0 3 1 4 1 5 1]\n",
      "  [2 5 7 7 0 6 1]\n",
      "  [9 0 7 0 0 4 7]\n",
      "  [3 6 8 2 0 2 3]]]\n"
     ]
    }
   ],
   "source": [
    "# 11) 0 ile 10 arasindaki degerlerden olusan 3 adet 4x7’lik bir matris olusturunuz. (3 boyutlu bir matris olusturulacak)\n",
    "matris = np.random.randint(0,10,(3,4,7))\n",
    "print(matris)\n"
   ]
  },
  {
   "cell_type": "code",
   "execution_count": 13,
   "metadata": {},
   "outputs": [
    {
     "name": "stdout",
     "output_type": "stream",
     "text": [
      "[[0 1 2 3 4]\n",
      " [5 6 7 8 9]]\n"
     ]
    }
   ],
   "source": [
    "# 12) Bir vektor olusturunuz ve daha sonrasinda ayni vektoru bir matrise ceviriniz. (boyut sayisini degistirin.)\n",
    "\n",
    "list = [i for i in range(10)]\n",
    "vektor = np.array(list)\n",
    "matris = vektor.reshape(2,5)\n",
    "print(matris)\n",
    "\n",
    "\n"
   ]
  },
  {
   "cell_type": "code",
   "execution_count": 14,
   "metadata": {},
   "outputs": [
    {
     "name": "stdout",
     "output_type": "stream",
     "text": [
      "[4 9 3 3 7 5 8 3 1 2 1 1 7 4 7 2]\n"
     ]
    }
   ],
   "source": [
    "# 13) 4 tane ayri tek boyutlu array’i birlestirerek bir array olusturunuz.\n",
    "arr1 = np.random.randint(10, size=4)\n",
    "arr2 = np.random.randint(10, size=4)\n",
    "arr3 = np.random.randint(10, size=4)\n",
    "arr4 = np.random.randint(10, size=4)\n",
    "union_arr = np.concatenate([arr1,arr2,arr3,arr4])\n",
    "print(union_arr)"
   ]
  },
  {
   "cell_type": "code",
   "execution_count": 15,
   "metadata": {},
   "outputs": [
    {
     "name": "stdout",
     "output_type": "stream",
     "text": [
      "[[ 6 27]\n",
      " [25 14]\n",
      " [21 17]\n",
      " [24 22]\n",
      " [19 22]]\n",
      "[[28]\n",
      " [ 4]\n",
      " [15]\n",
      " [ 9]\n",
      " [16]]\n",
      "[[ 6 27 28]\n",
      " [25 14  4]\n",
      " [21 17 15]\n",
      " [24 22  9]\n",
      " [19 22 16]]\n"
     ]
    }
   ],
   "source": [
    "#14) 2 boyutlu bir matris ve bir vektör olusturun(ayri ayri), bu iki arrayi numpy metodlarini kullanarak sutun bazli birlestiriniz,\n",
    "\n",
    "matris_1 = np.random.randint(30, size=(5,2))\n",
    "print((matris_1))\n",
    "vektor_1 = np.random.randint(30, size=(5,1))\n",
    "print((vektor_1))\n",
    "union_1 = np.concatenate([matris_1,vektor_1], axis = 1)\n",
    "print(union_1)\n",
    "\n"
   ]
  },
  {
   "cell_type": "code",
   "execution_count": 16,
   "metadata": {},
   "outputs": [
    {
     "name": "stdout",
     "output_type": "stream",
     "text": [
      "axis = 0 y ekseni yani sutun\n",
      "axis = 1 x ekseni yani satırdır\n"
     ]
    }
   ],
   "source": [
    "# 15) Numpy’da “axis=1” ve “axis=0” arasinda ne fark vardir. Teorik olarak yaziniz?\n",
    "\n",
    "print (\"axis = 0 y ekseni yani sutun\")\n",
    "print (\"axis = 1 x ekseni yani satırdır\")"
   ]
  },
  {
   "cell_type": "code",
   "execution_count": 17,
   "metadata": {},
   "outputs": [
    {
     "name": "stdout",
     "output_type": "stream",
     "text": [
      "[[0 2]\n",
      " [4 0]\n",
      " [8 5]\n",
      " [1 3]\n",
      " [7 8]]\n",
      "[[3 7 6 6]\n",
      " [3 7 8 2]\n",
      " [3 4 3 8]\n",
      " [3 7 1 1]\n",
      " [2 4 9 4]]\n",
      "[[0 2 3 7 6 6]\n",
      " [4 0 3 7 8 2]\n",
      " [8 5 3 4 3 8]\n",
      " [1 3 3 7 1 1]\n",
      " [7 8 2 4 9 4]]\n",
      "*******************\n",
      "[[0 2 3 7 6 6]\n",
      " [4 0 3 7 8 2]\n",
      " [8 5 3 4 3 8]\n",
      " [1 3 3 7 1 1]\n",
      " [7 8 2 4 9 4]]\n"
     ]
    }
   ],
   "source": [
    "# 16) Farkli boyutlardaki arraylari satin ve sutun bazli ayri ayri birlestiriniz.\n",
    "\n",
    "arr1 = np.random.randint(10, size=(5,2))\n",
    "print(arr1)\n",
    "arr2 = np.random.randint(10, size=(5,4))\n",
    "print(arr2)\n",
    "total1 = np.concatenate((arr1,arr2), axis = 1)\n",
    "total0 = np.concatenate((arr1,arr2), axis = 1)\n",
    "print(total1)\n",
    "print(\"*******************\")\n",
    "print(total1)"
   ]
  },
  {
   "cell_type": "code",
   "execution_count": 18,
   "metadata": {},
   "outputs": [
    {
     "name": "stdout",
     "output_type": "stream",
     "text": [
      "[array([0, 1]), array([2]), array([3, 4, 5, 6]), array([7, 8]), array([9])]\n"
     ]
    }
   ],
   "source": [
    "# 17) 10 elemanli bi liste olusturunuz ve bu listeyi Numpy metodlariyla bolerek(split) 5 ayri array olusturunuz.\n",
    "\n",
    "list = [i for i in range(10)]\n",
    "np_list = np.array(list)\n",
    "array5= np.split(np_list, [2,3,7,9])\n",
    "print(array5)\n"
   ]
  },
  {
   "cell_type": "code",
   "execution_count": 19,
   "metadata": {},
   "outputs": [
    {
     "name": "stdout",
     "output_type": "stream",
     "text": [
      "[4 3 1 0 0 0]\n",
      "4\n",
      "4\n",
      "0\n",
      "3\n",
      "0\n",
      "4\n"
     ]
    }
   ],
   "source": [
    "# 18) Random bir array olusturunuz ve bu arrayi buyukten kucuge dogru siralayiniz.Ve bu siralamadan \n",
    "# sonra hangi elemanin hangi indexte oldugunu gosteren bir metod uygulayiniz.\n",
    "\n",
    "arr1 = np.random.randint(6, size=(6))\n",
    "sorted_arr1 = np.sort(arr1)\n",
    "\n",
    "array_copy = np.sort(sorted_arr1)[::-1]\n",
    "print(array_copy)\n",
    "\n",
    "for i in arr1:\n",
    "    print(array_copy[i])\n",
    "\n",
    "\n",
    "\n"
   ]
  },
  {
   "cell_type": "code",
   "execution_count": 20,
   "metadata": {},
   "outputs": [
    {
     "name": "stdout",
     "output_type": "stream",
     "text": [
      "[32 95 26 25 35 79 63 78 81 86 55 55  4 96 13 28 87 74 22 41]\n",
      "26 35 63\n"
     ]
    }
   ],
   "source": [
    "# 19) 20 elemanli random bir vektor olusturunuz. Bu vektorun 3. 5. ve 7. elemanlarina ulasin.\n",
    "\n",
    "arr1 = np.random.randint(100, size=(20))\n",
    "print(arr1)\n",
    "print(arr1[2],arr1[4],arr1[6])\n"
   ]
  },
  {
   "cell_type": "code",
   "execution_count": 24,
   "metadata": {},
   "outputs": [
    {
     "name": "stdout",
     "output_type": "stream",
     "text": [
      "[18 56 11 13 54 62 60 10 71  7]\n",
      "[ 18  56  11 100  54  62  60  10  71   7]\n"
     ]
    }
   ],
   "source": [
    "# 20) 10 elemanli random bir vektor olusturunuz ve bu arrayin 4. elemanini farkli bir sayiyla degistiriniz.\n",
    "arr1 = np.random.randint(100, size=(10))\n",
    "print(arr1)\n",
    "arr1[3] = 100\n",
    "print(arr1)"
   ]
  },
  {
   "cell_type": "code",
   "execution_count": 22,
   "metadata": {},
   "outputs": [],
   "source": [
    "# 21) “Diagonal Matrix” ve “Trace of Matrix” kavramlari hakkinda kucuk bir arastirma yapip bunlarin ne oldugunu belirten kucuk bir aciklama yaziniz.\n",
    "\n",
    "# Diagonal Matrix = ilkköşegenin dışında kalan girişlerin tümü sıfır ve genellikle kare matris olan bir matrisdir. \n",
    "# Trace of Matrix = matrisin ana köşegen elemanlarının toplamıdır."
   ]
  },
  {
   "cell_type": "code",
   "execution_count": 23,
   "metadata": {},
   "outputs": [
    {
     "name": "stdout",
     "output_type": "stream",
     "text": [
      "[[ 0  0  0  0  0]\n",
      " [ 0  6  0  0  0]\n",
      " [ 0  0 12  0  0]\n",
      " [ 0  0  0 18  0]\n",
      " [ 0  0  0  0 24]]\n",
      "0 0 0\n",
      "1 1 6\n",
      "2 2 12\n",
      "3 3 18\n",
      "4 4 24\n"
     ]
    }
   ],
   "source": [
    "# 22) 5x5’lik Diagonal bir matris olusturunuz ve Diagonaline denk gelen indexlere ulasiniz.(ayri ayri)\n",
    "\n",
    "arr = np.arange(25).reshape((5,5))\n",
    "#print(arr)\n",
    "x = np.diag(arr)\n",
    "np.diag(x, k=1)\n",
    "np.diag(x, k=-1)\n",
    "y= np.diag(x)\n",
    "print(y)\n",
    "\n",
    "\n",
    "\n",
    "for i in range(len(arr)):\n",
    "    for j in range (len(arr)):\n",
    "        if i == j :\n",
    "            print(i,j,arr[i,j]) \n",
    "\n",
    "\n"
   ]
  },
  {
   "cell_type": "code",
   "execution_count": 28,
   "metadata": {},
   "outputs": [
    {
     "name": "stdout",
     "output_type": "stream",
     "text": [
      "[16 13 16 17 17 19 11 12 11 10]\n",
      "[17 17 19 11 12 11 10]\n"
     ]
    }
   ],
   "source": [
    "# 23) 10 ile 20 arasinda bir vektor olusturunuz. Ve 3. indexten son indexe kadar olan degerleri yazdiriniz.\n",
    "arr1 = np.random.randint(10,20, size=(10))\n",
    "print(arr1[3:])"
   ]
  },
  {
   "cell_type": "code",
   "execution_count": 79,
   "metadata": {},
   "outputs": [
    {
     "name": "stdout",
     "output_type": "stream",
     "text": [
      "[[15 12 19 11 10 12 18 18 17 15]\n",
      " [12 16 19 16 14 11 19 13 13 17]\n",
      " [16 17 10 10 10 16 11 14 12 13]\n",
      " [16 16 18 12 13 13 19 16 17 13]\n",
      " [17 12 15 16 19 12 12 12 12 14]\n",
      " [13 16 18 15 14 10 16 15 17 13]\n",
      " [15 16 12 18 19 16 13 12 13 11]\n",
      " [19 17 12 13 10 16 18 18 14 15]\n",
      " [18 18 13 10 18 12 16 15 10 12]\n",
      " [16 16 18 17 14 15 12 15 13 13]]\n",
      "-----------------------------------------------------\n",
      "[[16 16 18 12 13 13 19 16 17 13]]\n",
      "[[12]\n",
      " [11]\n",
      " [16]\n",
      " [13]\n",
      " [12]\n",
      " [10]\n",
      " [16]\n",
      " [16]\n",
      " [12]\n",
      " [15]]\n",
      "[[12]\n",
      " [11]\n",
      " [16]\n",
      " [13]\n",
      " [12]\n",
      " [10]\n",
      " [16]\n",
      " [16]\n",
      " [12]\n",
      " [15]]\n",
      "[16 17 10 10 10 16 11 14 12 13]\n",
      "[[16 17 10 10 10 16 11 14 12 13]]\n",
      "-----------------------------------------------------\n",
      "[[16 17 10 10 10 16 11 14 12 13]\n",
      " [16 16 18 12 13 13 19 16 17 13]\n",
      " [17 12 15 16 19 12 12 12 12 14]\n",
      " [13 16 18 15 14 10 16 15 17 13]\n",
      " [15 16 12 18 19 16 13 12 13 11]]\n",
      "-----------------------------------------------------\n",
      "[[10 10 16 11]\n",
      " [12 13 13 19]\n",
      " [16 19 12 12]]\n",
      "-----------------------------------------------------\n",
      "[[13 16 18 15]\n",
      " [15 16 12 18]\n",
      " [19 17 12 13]\n",
      " [18 18 13 10]\n",
      " [16 16 18 17]]\n",
      "-----------------------------------------------------\n",
      "[[11 18 15]\n",
      " [16 19 17]\n",
      " [10 11 13]\n",
      " [12 19 13]\n",
      " [16 12 14]\n",
      " [15 16 13]\n",
      " [18 13 11]\n",
      " [13 18 15]\n",
      " [10 16 12]\n",
      " [17 12 13]]\n",
      "-----------------------------------------------------\n",
      "[[     15      12      19      11      10      12      18      18      17\n",
      "       15]\n",
      " [     12      16      19      16      14      11      19      13      13\n",
      "       17]\n",
      " [     16      17      10      10      10      16      11      14      12\n",
      "       13]\n",
      " [     16      16      18      12      13      13      19      16      17\n",
      "       13]\n",
      " [     17      12      15      16      19      12      12      12      12\n",
      "       14]\n",
      " [     13      16      18      15      14 1121986      16      15      17\n",
      "       13]\n",
      " [     15      16      12      18      19      16      13      12      13\n",
      "       11]\n",
      " [     19      17      12      13      10      16      18      18      14\n",
      "       15]\n",
      " [     18      18      13      10      18      12      16      15      10\n",
      "       12]\n",
      " [     16      16      18      17      14      15      12      15      13\n",
      "       13]]\n"
     ]
    }
   ],
   "source": [
    "# 24) 10X10 luk bir matris olusturunuz ve ;\n",
    "arr1 = np.random.randint(10,20, size=(10,10))\n",
    "print(arr1)\n",
    "print(\"-----------------------------------------------------\")\n",
    "# 3.satir ve 5.sutuna ulasiniz.\n",
    "print(arr1[3:4])\n",
    "#print(\"-----------------------------------------------------\")\n",
    "print(arr1[0:, [5]])\n",
    "#print(\"-----------------------------------------------------\")\n",
    "# 5.sutunun tum satirlarina ulasiniz.\n",
    "print(arr1[0:, [5]])\n",
    "#print(\"-----------------------------------------------------\")\n",
    "# Tum sutunlarin 2.satirlarina ulasiniz.\n",
    "print(arr1[2,:])\n",
    "print(arr1[2:3])\n",
    "print(\"-----------------------------------------------------\")\n",
    "# tum sutunlarin 2 ile 7 arasindaki satirlarina ulasiniz.\n",
    "print(arr1[2:7])\n",
    "print(\"-----------------------------------------------------\")\n",
    "# satir indexi 2’den 5’e ve sutun indexi 3 den 7’ye kadar olan degerlere ulasiniz.\n",
    "print(arr1[2:5,3:7])\n",
    "print(\"-----------------------------------------------------\")\n",
    "# satir indexi 5’den en sona ve sutun indexi en bastan 4’e kadar olan degerlere ulasiniz.\n",
    "print(arr1[5:,0:4])\n",
    "print(\"-----------------------------------------------------\")\n",
    "# sutun indexi sadece 3, 6, 9 olan kolonlarin(sutunlarin), tum satirlarina ulasiniz.\n",
    "print(arr1[0:,[3,6,9]])\n",
    "print(\"-----------------------------------------------------\")\n",
    "# 5.indexli satir ve 5.indexli sutuna denk gelen degeri, dogum yilinizla degistiriniz.\"\"\"\n",
    "arr1[5,5]=\"01121986\"\n",
    "print(arr1)\n",
    "\n"
   ]
  },
  {
   "cell_type": "code",
   "execution_count": 93,
   "metadata": {},
   "outputs": [
    {
     "name": "stdout",
     "output_type": "stream",
     "text": [
      "[ 0  5 10 15 20 25 30 35 40 45]\n",
      "5\n",
      "6\n",
      "3\n",
      "[  0  25  50  75 100 125 150 175 200 225]\n",
      "[0 1 0 1 0 1 0 1 0 1]\n"
     ]
    }
   ],
   "source": [
    "# 25) 0’dan 50’ye kadar 5’er 5’er atlayarak giden bir array olusturunuz(tek boyutlu) ve numpy metodlariyla asagidaki islemleri uygulayin;\n",
    "arr1 = np.arange(0,50,5)\n",
    "print(arr1)\n",
    "# 20 den buyuk olan kac deger var.\n",
    "print(len(arr1[arr1>20]))\n",
    "# 30’dan kucuk kac deger var\n",
    "print(len(arr1[arr1<30]))\n",
    "# icerisinde 33 gecen kac deger var\n",
    "print(len(arr1[arr1>32]))\n",
    "# olusturulan arrayin tum elemanlarini 5 ile carpin.\n",
    "print(arr1*5)\n",
    "# olusturulan arrayin tum elemanlarinin 2 ile bolumunden kalanlari yazdiriniz.\n",
    "print(arr1%2)"
   ]
  },
  {
   "cell_type": "code",
   "execution_count": 108,
   "metadata": {},
   "outputs": [
    {
     "name": "stdout",
     "output_type": "stream",
     "text": [
      "[0.         0.02040816 0.04081633 0.06122449 0.08163265 0.10204082\n",
      " 0.12244898 0.14285714 0.16326531 0.18367347 0.20408163 0.2244898\n",
      " 0.24489796 0.26530612 0.28571429 0.30612245 0.32653061 0.34693878\n",
      " 0.36734694 0.3877551  0.40816327 0.42857143 0.44897959 0.46938776\n",
      " 0.48979592 0.51020408 0.53061224 0.55102041 0.57142857 0.59183673\n",
      " 0.6122449  0.63265306 0.65306122 0.67346939 0.69387755 0.71428571\n",
      " 0.73469388 0.75510204 0.7755102  0.79591837 0.81632653 0.83673469\n",
      " 0.85714286 0.87755102 0.89795918 0.91836735 0.93877551 0.95918367\n",
      " 0.97959184 1.        ]\n",
      "*****************************\n",
      "0.5\n",
      "*****************************\n",
      "0.2945075446869757\n",
      "*****************************\n",
      "0.086734693877551\n",
      "*****************************\n",
      "0.5\n",
      "*****************************\n",
      "0.0\n",
      "*****************************\n",
      "1.0\n"
     ]
    }
   ],
   "source": [
    "# 26) 0 ile 1 arasinda 50 elamanli bir array olusturunuz ve;\n",
    "\n",
    "arr1 = np.linspace(0,1,50)\n",
    "print(arr1)\n",
    "print(\"*****************************\")\n",
    "# orlamasini aliniz.\n",
    "print(np.mean(arr1))\n",
    "print(\"*****************************\")\n",
    "# standart sapmasini aliniz.\n",
    "print(np.std(arr1))\n",
    "print(\"*****************************\")\n",
    "# varyansini aliniz.\n",
    "print(np.var(arr1))\n",
    "print(\"*****************************\")\n",
    "# median’ini aliniz.\n",
    "print(np.median(arr1))\n",
    "print(\"*****************************\")\n",
    "# en kucuk degeri bulunuz.\n",
    "print(np.min(arr1))\n",
    "print(\"*****************************\")\n",
    "# en buyuk degeri bulunuz.\n",
    "print(np.max(arr1))"
   ]
  },
  {
   "cell_type": "code",
   "execution_count": null,
   "metadata": {},
   "outputs": [],
   "source": [
    "# 27)Pandas seriler ve numpy arrayler arasindaki farklar nelerdir yaziniz.\n",
    "\"\"\" Seriler Numpy dizileri baz alınarak oluşturuldukları için onlara çok benzerler. \n",
    "Seri, etiketli verilerden oluşan tek boyutlu bir veri yapısıdır. Etiket değerlerine ise indeks denir. \n",
    "Verinin kendisi sayılar, dizeler veya başka Python objelerinden oluşabilir. \n",
    "Serileri oluşturmak için ise listeler, sıralı diziler ya da sözlükler kullanılabilir. \"\"\""
   ]
  }
 ],
 "metadata": {
  "interpreter": {
   "hash": "e16b9bd33e7041c0842013505aab8d96e59e427e4e0c80436ba1b7c1f34f93b5"
  },
  "kernelspec": {
   "display_name": "Python 3.9.5 64-bit",
   "language": "python",
   "name": "python3"
  },
  "language_info": {
   "codemirror_mode": {
    "name": "ipython",
    "version": 3
   },
   "file_extension": ".py",
   "mimetype": "text/x-python",
   "name": "python",
   "nbconvert_exporter": "python",
   "pygments_lexer": "ipython3",
   "version": "3.9.5"
  },
  "orig_nbformat": 4
 },
 "nbformat": 4,
 "nbformat_minor": 2
}
